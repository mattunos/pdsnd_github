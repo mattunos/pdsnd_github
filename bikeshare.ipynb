{
 "cells": [
  {
   "cell_type": "code",
   "execution_count": 1,
   "metadata": {},
   "outputs": [],
   "source": [
    "import time\n",
    "import pandas as pd\n",
    "import numpy as np\n",
    "\n",
    "pd.set_option (\"display.max_columns\", 200)\n",
    "\n",
    "CITY_DATA = { 'Chicago': 'chicago.csv',\n",
    "              'New York City': 'new_york_city.csv',\n",
    "              'Washington': 'washington.csv' }\n"
   ]
  },
  {
   "cell_type": "code",
   "execution_count": 2,
   "metadata": {},
   "outputs": [
    {
     "name": "stdout",
     "output_type": "stream",
     "text": [
      "Hello! Let's explore some US bikeshare data!\n",
      "Enter city you want to analyze (Chicago, New York City or Washington): Washington\n",
      "Enter month (up to June) you want to analyze or type All for all months: May\n",
      "Enter day you want to analyze or type All for all days: Friday\n"
     ]
    }
   ],
   "source": [
    "cities = [\"Chicago\", \"New York City\", \"Washington\"]\n",
    "months = [\"All\", \"January\", \"February\", \"March\", \"April\", \"May\", \"June\"]\n",
    "days = [\"All\", \"Monday\", \"Tuesday\", \"Wednesday\", \"Thursday\", \"Friday\", \"Saturday\", \"Sunday\"]\n",
    "\n",
    "def get_filters():\n",
    "    print('Hello! Let\\'s explore some US bikeshare data!')\n",
    "    city = str(input(\"Enter city you want to analyze (Chicago, New York City or Washington): \").lower().title())\n",
    "    while city not in cities:\n",
    "        print(\"Please enter the city as either Chicago, New York City or Washington\")\n",
    "        city = str(input(\"Enter city you want to analyze (Chicago, New York City or Washington): \").lower().title())\n",
    "    month = str(input(\"Enter month (up to June) you want to analyze or type All for all months: \").lower().title())\n",
    "    while month not in months:\n",
    "        print(\"Please enter the month (up to June) as a calendar month or type All e.g. January, February\")\n",
    "        month = str(input(\"Enter month (up to June) you want to analyze or type All for all months: \").lower().title())\n",
    "    day = str(input(\"Enter day you want to analyze or type All for all days: \").lower().title())\n",
    "    while day not in days:\n",
    "        print(\"Please enter the day as a weekday or weekend or type All e.g. Monday, Tuesday\")  \n",
    "        day = str(input(\"Enter day you want to analyze or type All for all days: \").lower().title())\n",
    "    return city, month, day\n",
    "\n",
    "city, month, day = get_filters()\n"
   ]
  },
  {
   "cell_type": "code",
   "execution_count": 3,
   "metadata": {},
   "outputs": [
    {
     "name": "stdout",
     "output_type": "stream",
     "text": [
      "Displaying data for the city of: Washington\n",
      "Displaying data for the following month/s: May\n",
      "Displaying data for the following day/s: Friday\n",
      "would you like to see 5 rows of raw data (yes or no)?yes\n",
      "     Unnamed: 0 Month     Day Hour  \\\n",
      "43      1126235   May  Friday   02   \n",
      "110     1207200   May  Friday   03   \n",
      "157     1215865   May  Friday   09   \n",
      "159     1210885   May  Friday   06   \n",
      "173     1067125   May  Friday   08   \n",
      "\n",
      "                                   Station Combination          Start Time  \\\n",
      "43                     22nd & P ST NW - 10th & K St NW 2017-05-12 02:15:53   \n",
      "110   Columbus Circle / Union Station - 11th & H St NE 2017-05-19 03:53:18   \n",
      "157           N Lynn St & Fairfax Dr - 23rd & E St NW  2017-05-19 09:50:38   \n",
      "159  5th St & Massachusetts Ave NW - 10th St & Cons... 2017-05-19 06:42:57   \n",
      "173       15th & P St NW - New Hampshire Ave & T St NW 2017-05-05 08:12:45   \n",
      "\n",
      "                End Time  Trip Duration                    Start Station  \\\n",
      "43   2017-05-12 02:33:15       1042.119                   22nd & P ST NW   \n",
      "110  2017-05-19 04:53:15       3597.384  Columbus Circle / Union Station   \n",
      "157  2017-05-19 10:14:21       1423.507           N Lynn St & Fairfax Dr   \n",
      "159  2017-05-19 06:52:53        595.328    5th St & Massachusetts Ave NW   \n",
      "173  2017-05-05 08:19:38        413.183                   15th & P St NW   \n",
      "\n",
      "                       End Station   User Type  \n",
      "43                  10th & K St NW    Customer  \n",
      "110                 11th & H St NE  Subscriber  \n",
      "157                23rd & E St NW     Customer  \n",
      "159  10th St & Constitution Ave NW  Subscriber  \n",
      "173    New Hampshire Ave & T St NW    Customer  \n",
      "would you like to see 5 rows of raw data (yes or no)?no\n"
     ]
    }
   ],
   "source": [
    "def load_data (city, month, day):\n",
    "    df = pd.read_csv(CITY_DATA[city])\n",
    "    df['Start Time'] = pd.to_datetime(df['Start Time'])\n",
    "    df.insert(1, 'Month', df['Start Time'].dt.strftime(\"%B\"))\n",
    "    df.insert(2, 'Day', df['Start Time'].dt.strftime(\"%A\"))\n",
    "    df.insert(3,'Hour', df['Start Time'].dt.strftime(\"%H\"))\n",
    "    df.insert(4,'Station Combination', df['Start Station'] + \" - \" + df['End Station'])\n",
    "    if month != 'All':\n",
    "        df= df[df['Month'] == month]\n",
    "    if day != 'All':\n",
    "        df = df[df['Day'] == day]\n",
    "    print(\"Displaying data for the city of: {}\".format(city))\n",
    "    print(\"Displaying data for the following month/s: {}\".format(month))\n",
    "    print(\"Displaying data for the following day/s: {}\".format(day))\n",
    "    return df\n",
    "\n",
    "df = load_data(city,month,day)\n",
    "\n",
    "\n",
    "def raw_data (df):\n",
    "    x = 1\n",
    "    raw_data = input(\"Would you like to see 5 rows of raw data (yes or no)?\".lower())\n",
    "    while raw_data == 'yes':\n",
    "        print(df.iloc[(x-1)*5:x*5])\n",
    "        x += 1\n",
    "        raw_data = input(\"Would you like to see 5 rows of raw data (yes or no)?\".lower())\n",
    "        \n",
    "raw_data(df)\n",
    "        "
   ]
  },
  {
   "cell_type": "code",
   "execution_count": 4,
   "metadata": {},
   "outputs": [
    {
     "name": "stdout",
     "output_type": "stream",
     "text": [
      "\n",
      "Calculating The Most Frequent Times of Travel for your city of choice. Note that these statistics are not filtered by month or weekday...\n",
      "\n",
      "\n",
      "This took 9.27512001991272 seconds.\n",
      "----------------------------------------\n"
     ]
    },
    {
     "data": {
      "text/plain": [
       "('The most popular month for travel is: June',\n",
       " 'The most popular day for travel is: Wednesday',\n",
       " 'The most popular start time hour for travel is: 08:00')"
      ]
     },
     "execution_count": 4,
     "metadata": {},
     "output_type": "execute_result"
    }
   ],
   "source": [
    "def time_stats():\n",
    "    \"\"\"Displays statistics on the most frequent times of travel\"\"\"\n",
    "    print('\\nCalculating The Most Frequent Times of Travel for your city of choice. Note that these statistics are not filtered by month or weekday...\\n')\n",
    "    df = pd.read_csv(CITY_DATA[city])\n",
    "    start_time = time.time()\n",
    "    df['Start Time'] = pd.to_datetime(df['Start Time'])\n",
    "    df.insert(1, 'Month', df['Start Time'].dt.strftime(\"%B\"))\n",
    "    df.insert(2, 'Day', df['Start Time'].dt.strftime(\"%A\"))\n",
    "    df.insert(3,'Hour', df['Start Time'].dt.strftime(\"%H\"))\n",
    "    most_common_month = df['Month'].value_counts().idxmax()\n",
    "    most_common_day = df['Day'].value_counts().idxmax()\n",
    "    most_common_hour = df['Hour'].value_counts().idxmax()\n",
    "    print(\"\\nThis took %s seconds.\" % (time.time() - start_time))\n",
    "    print('-'*40)\n",
    "    return 'The most popular month for travel is: {}'.format(most_common_month), 'The most popular day for travel is: {}'.format(most_common_day), 'The most popular start time hour for travel is: {}:00'.format(most_common_hour) \n",
    "\n",
    "    # TO DO: display the most common month\n",
    "\n",
    "\n",
    "    # TO DO: display the most common day of week\n",
    "\n",
    "\n",
    "    # TO DO: display the most common start hour\n",
    "\n",
    "\n",
    "    \n",
    "\n",
    "time_stats()\n",
    "\n"
   ]
  },
  {
   "cell_type": "code",
   "execution_count": 5,
   "metadata": {},
   "outputs": [
    {
     "name": "stdout",
     "output_type": "stream",
     "text": [
      "\n",
      "Calculating The Most Popular Stations and Trip for your choice of city, month/s and day/s...\n",
      "\n",
      "\n",
      "This took 0.006887912750244141 seconds.\n",
      "----------------------------------------\n"
     ]
    },
    {
     "data": {
      "text/plain": [
       "('The most popular start station is: Lincoln Memorial',\n",
       " 'The most popular end station is: Columbus Circle / Union Station',\n",
       " 'The most popular station combination for travel is: Lincoln Memorial - Smithsonian-National Mall / Jefferson Dr & 12th St SW')"
      ]
     },
     "execution_count": 5,
     "metadata": {},
     "output_type": "execute_result"
    }
   ],
   "source": [
    "def station_stats(df):\n",
    "    \"\"\"Displays statistics on the most popular stations and trip.\"\"\"\n",
    "\n",
    "    print('\\nCalculating The Most Popular Stations and Trip for your choice of city, month/s and day/s...\\n')\n",
    "    start_time = time.time()\n",
    "    most_common_start_station = df['Start Station'].value_counts().idxmax()\n",
    "    most_common_end_station = df['End Station'].value_counts().idxmax()\n",
    "    most_common_station_combination = df['Station Combination'].value_counts().idxmax()\n",
    "\n",
    "    # TO DO: display most commonly used start station\n",
    "\n",
    "\n",
    "    # TO DO: display most commonly used end station\n",
    "\n",
    "\n",
    "    # TO DO: display most frequent combination of start station and end station trip\n",
    "\n",
    "\n",
    "    print(\"\\nThis took %s seconds.\" % (time.time() - start_time))\n",
    "    print('-'*40)\n",
    "    return 'The most popular start station is: {}'.format(most_common_start_station), 'The most popular end station is: {}'.format(most_common_end_station), 'The most popular station combination for travel is: {}'.format(most_common_station_combination) \n",
    "    \n",
    "\n",
    "\n",
    "station_stats(df)\n"
   ]
  },
  {
   "cell_type": "code",
   "execution_count": 6,
   "metadata": {},
   "outputs": [
    {
     "name": "stdout",
     "output_type": "stream",
     "text": [
      "\n",
      "Calculating Trip Duration for your choice of city, month/s and day/s...\n",
      "\n",
      "\n",
      "This took 0.0023298263549804688 seconds.\n",
      "----------------------------------------\n"
     ]
    },
    {
     "data": {
      "text/plain": [
       "('The total travel time during your analysis period is: 141275 hours and 22 mins',\n",
       " 'The mean travel time during your analysis period is: 19 hours and 32 mins')"
      ]
     },
     "execution_count": 6,
     "metadata": {},
     "output_type": "execute_result"
    }
   ],
   "source": [
    "def trip_duration_stats(df):\n",
    "    \"\"\"Displays statistics on the total and average trip duration.\"\"\"\n",
    "\n",
    "    print('\\nCalculating Trip Duration for your choice of city, month/s and day/s...\\n')\n",
    "    start_time = time.time()\n",
    "    total_travel_time_hours = int((df['Trip Duration'].sum())//60)\n",
    "    mean_travel_time_hours = int((df['Trip Duration'].mean())//60)\n",
    "    total_travel_time_mins = int((df['Trip Duration'].sum())%60)\n",
    "    mean_travel_time_mins = int((df['Trip Duration'].mean())%60)\n",
    "\n",
    "    # TO DO: display total travel time\n",
    "\n",
    "\n",
    "    # TO DO: display mean travel time\n",
    "\n",
    "\n",
    "    print(\"\\nThis took %s seconds.\" % (time.time() - start_time))\n",
    "    print('-'*40)\n",
    "    return 'The total travel time during your analysis period is: {} hours and {} mins'.format(total_travel_time_hours,total_travel_time_mins), 'The mean travel time during your analysis period is: {} hours and {} mins'.format(mean_travel_time_hours, mean_travel_time_mins )\n",
    "\n",
    "\n",
    "trip_duration_stats(df)\n",
    "\n"
   ]
  },
  {
   "cell_type": "code",
   "execution_count": 7,
   "metadata": {},
   "outputs": [
    {
     "name": "stdout",
     "output_type": "stream",
     "text": [
      "\n",
      "Calculating User Stats for your choice of city, month/s and day/s...\n",
      "\n",
      "\n",
      "This took 0.0 seconds.\n",
      "----------------------------------------\n"
     ]
    },
    {
     "data": {
      "text/plain": [
       "('The count of user types is as follows: Subscriber    5305\\nCustomer      1925\\nName: User Type, dtype: int64',\n",
       " 'There are no user statistics on gender and date of birth for the State of Washington')"
      ]
     },
     "execution_count": 7,
     "metadata": {},
     "output_type": "execute_result"
    }
   ],
   "source": [
    "def user_stats(df,city):\n",
    "    \"\"\"Displays statistics on bikeshare users.\"\"\"\n",
    "    \n",
    "    print('\\nCalculating User Stats...\\n')\n",
    "    start_time = time.time()\n",
    "\n",
    "    #counts of user types\n",
    "    print('User type counts:\\n{}'.format(df['User Type'].value_counts()) + '\\n')\n",
    "    \n",
    "    if city != 'washington':\n",
    "        #  counts of gender\n",
    "        print('Counts of gender:\\n{}'.format(df['Gender'].value_counts())+ '\\n') \n",
    "        # earliest, most recent, and most common year of birth\n",
    "        print('Earliest birth date: {}'.format(df['Birth Year'].min()))\n",
    "        print('Most recent birth date: {}'.format(df['Birth Year'].max()))\n",
    "        print('Most common year of birth: {}'.format(df['Birth Year'].mode()))\n",
    "\n",
    "\n",
    "    print(\"\\nThis took %s seconds.\" % (time.time() - start_time))\n",
    "    print('-'*40)\n",
    "\n",
    "\n",
    "\n"
   ]
  },
  {
   "cell_type": "code",
   "execution_count": null,
   "metadata": {},
   "outputs": [
    {
     "name": "stdout",
     "output_type": "stream",
     "text": [
      "\n",
      "Would you like to restart? Enter yes or no.\n",
      "yes\n",
      "Hello! Let's explore some US bikeshare data!\n",
      "Enter city you want to analyze (Chicago, New York City or Washington): New York City\n",
      "Enter month (up to June) you want to analyze or type All for all months: June\n",
      "Enter day you want to analyze or type All for all days: Monday\n",
      "Displaying data for the city of: New York City\n",
      "Displaying data for the following month/s: June\n",
      "Displaying data for the following day/s: Monday\n",
      "\n",
      "Calculating The Most Frequent Times of Travel for your city of choice. Note that these statistics are not filtered by month or weekday...\n",
      "\n",
      "\n",
      "This took 6.5308403968811035 seconds.\n",
      "----------------------------------------\n",
      "\n",
      "Calculating The Most Popular Stations and Trip for your choice of city, month/s and day/s...\n",
      "\n",
      "\n",
      "This took 0.013336896896362305 seconds.\n",
      "----------------------------------------\n",
      "\n",
      "Calculating Trip Duration for your choice of city, month/s and day/s...\n",
      "\n",
      "\n",
      "This took 0.002008199691772461 seconds.\n",
      "----------------------------------------\n",
      "\n",
      "Calculating User Stats for your choice of city, month/s and day/s...\n",
      "\n",
      "\n",
      "This took 0.0 seconds.\n",
      "----------------------------------------\n"
     ]
    }
   ],
   "source": [
    "def main():\n",
    "    while True:\n",
    "        restart = input('\\nWould you like to restart? Enter yes or no.\\n')\n",
    "        if restart.lower() != 'yes':\n",
    "            break\n",
    "        \n",
    "        city, month, day = get_filters()\n",
    "        df = load_data(city, month, day)\n",
    "\n",
    "        time_stats()\n",
    "        station_stats(df)\n",
    "        trip_duration_stats(df)\n",
    "        user_stats(df)\n",
    "        \n",
    "\n",
    "if __name__ == \"__main__\":\n",
    "\tmain()\n"
   ]
  }
 ],
 "metadata": {
  "kernelspec": {
   "display_name": "Python 3",
   "language": "python",
   "name": "python3"
  },
  "language_info": {
   "codemirror_mode": {
    "name": "ipython",
    "version": 3
   },
   "file_extension": ".py",
   "mimetype": "text/x-python",
   "name": "python",
   "nbconvert_exporter": "python",
   "pygments_lexer": "ipython3",
   "version": "3.8.3"
  }
 },
 "nbformat": 4,
 "nbformat_minor": 4
}
